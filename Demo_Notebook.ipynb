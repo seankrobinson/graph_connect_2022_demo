{
 "cells": [
  {
   "cell_type": "markdown",
   "id": "31c9d09d",
   "metadata": {},
   "source": [
    "## [Graph Data Science Python Driver](https://github.com/neo4j/graph-data-science-client)"
   ]
  },
  {
   "cell_type": "code",
   "execution_count": 33,
   "id": "97584d40",
   "metadata": {},
   "outputs": [],
   "source": [
    "#!pip install graphdatascience"
   ]
  },
  {
   "cell_type": "markdown",
   "id": "8c1e8d1f",
   "metadata": {},
   "source": [
    "## Imports"
   ]
  },
  {
   "cell_type": "code",
   "execution_count": 35,
   "id": "aa8590cf",
   "metadata": {
    "scrolled": true
   },
   "outputs": [],
   "source": [
    "# Data\n",
    "import pandas as pd\n",
    "from graphdatascience import GraphDataScience\n",
    "\n",
    "# Viz\n",
    "from sklearn.manifold import TSNE\n",
    "import matplotlib.pyplot as plt\n",
    "import seaborn as sns\n",
    "\n",
    "# ML\n",
    "from sklearn.model_selection import train_test_split\n",
    "from sklearn.preprocessing import LabelEncoder\n",
    "from xgboost import XGBClassifier\n",
    "\n",
    "# Metrics\n",
    "from sklearn.metrics import accuracy_score\n",
    "from sklearn.metrics import recall_score\n",
    "from sklearn.metrics import precision_score\n",
    "from sklearn.metrics import precision_recall_curve\n",
    "from sklearn.metrics import plot_confusion_matrix"
   ]
  },
  {
   "cell_type": "markdown",
   "id": "c950c648",
   "metadata": {},
   "source": [
    "## Setup"
   ]
  },
  {
   "cell_type": "code",
   "execution_count": null,
   "id": "92474319",
   "metadata": {
    "scrolled": true
   },
   "outputs": [],
   "source": [
    "URI      = \"neo4j://localhost:7687\"\n",
    "creds    = ('neo4j', 'password')\n",
    "gds      = GraphDataScience(URI, auth=creds)"
   ]
  },
  {
   "cell_type": "markdown",
   "id": "6f63ebd8",
   "metadata": {},
   "source": [
    "## Load CORA Data\n",
    "#### Data from https://github.com/CJ2001"
   ]
  },
  {
   "cell_type": "markdown",
   "id": "7ffa7900",
   "metadata": {},
   "source": [
    "![](https://cdn-images-1.medium.com/fit/t/1600/480/1*oygeCjtUsS87duvFoDT8tA.png)"
   ]
  },
  {
   "cell_type": "markdown",
   "id": "b3910cc1",
   "metadata": {},
   "source": [
    "### Create Constraint"
   ]
  },
  {
   "cell_type": "code",
   "execution_count": null,
   "id": "c7fd92cb",
   "metadata": {
    "scrolled": true
   },
   "outputs": [],
   "source": [
    "c = '''\n",
    "// Create constraints\n",
    "CREATE CONSTRAINT papers IF NOT EXISTS ON (p:Paper) ASSERT p.id IS UNIQUE;\n",
    "'''\n",
    "\n",
    "gds.run_cypher(c)"
   ]
  },
  {
   "cell_type": "markdown",
   "id": "b80119a2",
   "metadata": {},
   "source": [
    "### Import Nodes"
   ]
  },
  {
   "cell_type": "code",
   "execution_count": null,
   "id": "a217991e",
   "metadata": {
    "scrolled": false
   },
   "outputs": [],
   "source": [
    "c = '''\n",
    "// Load node list\n",
    "LOAD CSV WITH HEADERS FROM 'https://raw.githubusercontent.com/cj2001/pydata2021/main/notebooks/data/cora_nodes.csv' AS line\n",
    "WITH line\n",
    "MERGE (p:Paper {id: line.id})\n",
    "    ON CREATE SET p.subject = line.subject, p.features = line.features\n",
    "RETURN COUNT(*)\n",
    "'''\n",
    "\n",
    "gds.run_cypher(c)"
   ]
  },
  {
   "cell_type": "markdown",
   "id": "502e1713",
   "metadata": {},
   "source": [
    "### Import Edges"
   ]
  },
  {
   "cell_type": "code",
   "execution_count": null,
   "id": "cfa062c6",
   "metadata": {
    "scrolled": false
   },
   "outputs": [],
   "source": [
    "c = '''\n",
    "// Load edge list\n",
    "LOAD CSV WITH HEADERS FROM 'https://raw.githubusercontent.com/cj2001/pydata2021/main/notebooks/data/cora_edges.csv' AS line\n",
    "WITH line\n",
    "MATCH (source:Paper {id: line.source})\n",
    "MATCH (target:Paper {id: line.target})\n",
    "MERGE (source)-[:CITES]->(target)\n",
    "RETURN COUNT(*)\n",
    "'''\n",
    "\n",
    "gds.run_cypher(c)"
   ]
  },
  {
   "cell_type": "markdown",
   "id": "07344578",
   "metadata": {},
   "source": [
    "## Create graph projection"
   ]
  },
  {
   "cell_type": "code",
   "execution_count": null,
   "id": "67b7ee2e",
   "metadata": {
    "scrolled": true
   },
   "outputs": [],
   "source": [
    "node_projection = [\"Paper\"]\n",
    "relationship_projection = {\"CITES\": \n",
    "                           {\"orientation\": \"UNDIRECTED\"}\n",
    "                          }\n",
    "# G.drop()\n",
    "\n",
    "G, _ = gds.graph.project(\"papers\", \n",
    "                         node_projection, \n",
    "                         relationship_projection)"
   ]
  },
  {
   "cell_type": "code",
   "execution_count": null,
   "id": "fbe7e7a2",
   "metadata": {},
   "outputs": [],
   "source": [
    "def projection_stats(G):\n",
    "    print('name:', G.name(), '\\n')\n",
    "    print('degree_distribution:\\n', G.degree_distribution())\n",
    "    print('density:', G.density(), '\\n')\n",
    "    print('node_count:', G.node_count())\n",
    "    print('relationship_count:', G.relationship_count())\n",
    "    \n",
    "projection_stats(G)"
   ]
  },
  {
   "cell_type": "markdown",
   "id": "54bf1bfc",
   "metadata": {},
   "source": [
    "## Stream FastRP Embeddings"
   ]
  },
  {
   "cell_type": "code",
   "execution_count": null,
   "id": "039c4925",
   "metadata": {
    "scrolled": false
   },
   "outputs": [],
   "source": [
    "# Run FastRP and mutate projection with result\n",
    "result = gds.fastRP.stream(\n",
    "    G,\n",
    "    embeddingDimension=64,\n",
    "    iterationWeights=[0.8, 1, 1, 1],\n",
    ")\n",
    "\n",
    "result.head()"
   ]
  },
  {
   "cell_type": "markdown",
   "id": "0f121430",
   "metadata": {},
   "source": [
    "### Clean up Dataframe with Pandas transforms"
   ]
  },
  {
   "cell_type": "code",
   "execution_count": null,
   "id": "efc5be3a",
   "metadata": {},
   "outputs": [],
   "source": [
    "df = pd.concat([result[['nodeId']],\n",
    "                   pd.DataFrame.from_dict(dict(zip(result.embedding.index, result.embedding.values))).T],\n",
    "                axis=1)\n",
    "df.head()"
   ]
  },
  {
   "cell_type": "code",
   "execution_count": null,
   "id": "72990773",
   "metadata": {
    "scrolled": true
   },
   "outputs": [],
   "source": [
    "df = pd.merge(gds.run_cypher('MATCH (n:Paper) RETURN id(n) as nodeId, n.subject as class'),\n",
    "                df,\n",
    "              on=\"nodeId\")\n",
    "df.head()"
   ]
  },
  {
   "cell_type": "markdown",
   "id": "a6d0c00e",
   "metadata": {},
   "source": [
    "## Loop over desired algorithms and add them to Dataframe"
   ]
  },
  {
   "cell_type": "code",
   "execution_count": null,
   "id": "c784bd62",
   "metadata": {
    "scrolled": false
   },
   "outputs": [],
   "source": [
    "for algo in ['pageRank', 'betweenness']:\n",
    "    method = getattr(gds, algo)\n",
    "    \n",
    "    df = pd.merge(df, \n",
    "                    method.stream(G).rename(columns={'score': algo}),\n",
    "                  on=\"nodeId\")\n",
    "df.head()"
   ]
  },
  {
   "cell_type": "markdown",
   "id": "d6f3b1b9",
   "metadata": {},
   "source": [
    "## Create Pandas Plot"
   ]
  },
  {
   "cell_type": "code",
   "execution_count": null,
   "id": "cfe4ce0e",
   "metadata": {
    "scrolled": false
   },
   "outputs": [],
   "source": [
    "boxplot = df.boxplot(column=['betweenness'])  "
   ]
  },
  {
   "cell_type": "markdown",
   "id": "3bf2bd2b",
   "metadata": {},
   "source": [
    "## Create Seaborn Plot"
   ]
  },
  {
   "cell_type": "code",
   "execution_count": null,
   "id": "9161405c",
   "metadata": {},
   "outputs": [],
   "source": [
    "sns.histplot(df.pageRank, log_scale=True)"
   ]
  },
  {
   "cell_type": "markdown",
   "id": "325409e1",
   "metadata": {},
   "source": [
    "## Visualize FastRP embeddings with TSNE plot"
   ]
  },
  {
   "cell_type": "code",
   "execution_count": null,
   "id": "4d241f76",
   "metadata": {},
   "outputs": [],
   "source": [
    "def create_tsne_plot(df):\n",
    "\n",
    "    X_emb = TSNE(n_components=2).fit_transform(df[df.columns[2:-3]])\n",
    "\n",
    "    tsne_df = pd.DataFrame(data = {\n",
    "        'x': [value[0] for value in X_emb],\n",
    "        'y': [value[1] for value in X_emb], \n",
    "        'label': pd.factorize(df['class'])[0].astype(\"float32\")\n",
    "    })\n",
    "\n",
    "    plt.figure(figsize=(16,10))\n",
    "    s = 30\n",
    "    ax = sns.scatterplot(\n",
    "        x='x', y='y',\n",
    "        palette=sns.color_palette('hls', 7),\n",
    "        data=tsne_df,\n",
    "        hue='label',\n",
    "        legend=True, \n",
    "        s=100,\n",
    "        alpha=0.75\n",
    "    )\n",
    "    ax.legend(prop={'size': 10})\n",
    "    plt.xlabel('X Component', fontsize=16)\n",
    "    plt.ylabel('Y Component', fontsize=16)\n",
    "    plt.show"
   ]
  },
  {
   "cell_type": "code",
   "execution_count": null,
   "id": "94c078c2",
   "metadata": {
    "scrolled": false
   },
   "outputs": [],
   "source": [
    "create_tsne_plot(df)"
   ]
  },
  {
   "cell_type": "markdown",
   "id": "db5396d5",
   "metadata": {},
   "source": [
    "## Split Train & Test Data"
   ]
  },
  {
   "cell_type": "code",
   "execution_count": null,
   "id": "e2452a3a",
   "metadata": {},
   "outputs": [],
   "source": [
    "encoder = LabelEncoder()\n",
    "encoder.fit(df['class'])\n",
    "\n",
    "df['class'] = encoder.transform(df['class'])\n"
   ]
  },
  {
   "cell_type": "code",
   "execution_count": null,
   "id": "336ebbc8",
   "metadata": {
    "scrolled": false
   },
   "outputs": [],
   "source": [
    "X = df[df.columns[2:-3]]  # Features\n",
    "y = df['class']  # Labels\n",
    "\n",
    "# Split dataset into training set and test set\n",
    "X_train, X_test, y_train, y_test = train_test_split(X, y, test_size=0.3) # 70% training and 30% test"
   ]
  },
  {
   "cell_type": "markdown",
   "id": "2f9e1841",
   "metadata": {},
   "source": [
    "## Build Classifier"
   ]
  },
  {
   "cell_type": "code",
   "execution_count": null,
   "id": "20c282de",
   "metadata": {},
   "outputs": [],
   "source": [
    "#Create a Gaussian Classifier\n",
    "clf = XGBClassifier(n_estimators=100,\n",
    "                    use_label_encoder=False,\n",
    "                    eval_metric='mlogloss')\n",
    "\n",
    "#Train the model using the training sets y_pred=clf.predict(X_test)\n",
    "clf.fit(X_train,y_train)\n",
    "\n",
    "y_pred=clf.predict(X_test)"
   ]
  },
  {
   "cell_type": "markdown",
   "id": "63b83106",
   "metadata": {},
   "source": [
    "## Classifier Metrics"
   ]
  },
  {
   "cell_type": "code",
   "execution_count": null,
   "id": "ec88bbdb",
   "metadata": {},
   "outputs": [],
   "source": [
    "print(\"Accuracy:\", accuracy_score(y_test, y_pred))"
   ]
  },
  {
   "cell_type": "code",
   "execution_count": null,
   "id": "375a32b6",
   "metadata": {},
   "outputs": [],
   "source": [
    "matrix = plot_confusion_matrix(clf, X_test, y_test, cmap=plt.cm.Blues, normalize='true')\n",
    "plt.show(matrix)\n",
    "plt.show()"
   ]
  },
  {
   "cell_type": "code",
   "execution_count": null,
   "id": "8ec7ba5e",
   "metadata": {
    "scrolled": true
   },
   "outputs": [],
   "source": [
    "top_n = 20\n",
    "\n",
    "feat_importances = pd.Series(clf.feature_importances_, index=X.columns)\n",
    "feat_importances.nlargest(top_n).plot(kind='barh', \n",
    "                                      title=f'Top {top_n} Feature Importances',\n",
    "                                      xlabel= 'Feature',\n",
    "                                      ylabel= 'Feature')"
   ]
  }
 ],
 "metadata": {
  "kernelspec": {
   "display_name": "Python 3",
   "language": "python",
   "name": "python3"
  },
  "language_info": {
   "codemirror_mode": {
    "name": "ipython",
    "version": 3
   },
   "file_extension": ".py",
   "mimetype": "text/x-python",
   "name": "python",
   "nbconvert_exporter": "python",
   "pygments_lexer": "ipython3",
   "version": "3.8.8"
  }
 },
 "nbformat": 4,
 "nbformat_minor": 5
}
